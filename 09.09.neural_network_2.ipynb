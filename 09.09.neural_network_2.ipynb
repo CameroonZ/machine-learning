{
 "cells": [
  {
   "cell_type": "markdown",
   "metadata": {
    "ExecuteTime": {
     "end_time": "2019-04-07T02:19:02.272939Z",
     "start_time": "2019-04-07T02:19:02.268259Z"
    },
    "slideshow": {
     "slide_type": "slide"
    }
   },
   "source": [
    "***\n",
    "***\n",
    "\n",
    "# Introduction to Neural Network\n",
    "\n",
    "\n",
    "***\n",
    "***"
   ]
  },
  {
   "cell_type": "markdown",
   "metadata": {
    "ExecuteTime": {
     "end_time": "2019-04-07T05:41:09.971531Z",
     "start_time": "2019-04-07T05:41:09.967172Z"
    },
    "slideshow": {
     "slide_type": "subslide"
    }
   },
   "source": [
    "\n",
    "<img src= 'img/neuralnetwork/playground.png' width= \"700px\">\n",
    "\n",
    "http://playground.tensorflow.org/"
   ]
  },
  {
   "cell_type": "markdown",
   "metadata": {
    "ExecuteTime": {
     "end_time": "2019-04-07T09:37:45.438709Z",
     "start_time": "2019-04-07T09:37:45.434406Z"
    },
    "slideshow": {
     "slide_type": "subslide"
    }
   },
   "source": [
    "- Deep Learning http://www.deeplearningbook.org\n",
    "    - An MIT Press book by Ian Goodfellow, Yoshua Bengio and Aaron Courville\n",
    "\n",
    "- Neural Networks and Deep Learning http://neuralnetworksanddeeplearning.com/index.html\n",
    "\n",
    "    - A free online book explaining the core ideas behind artificial neural networks and deep learning. [Code](https://github.com/mnielsen/neural-networks-and-deep-learning). By [Michael Nielsen](http://michaelnielsen.org/) / Dec 2017"
   ]
  },
  {
   "cell_type": "markdown",
   "metadata": {
    "slideshow": {
     "slide_type": "slide"
    }
   },
   "source": [
    "## House Price\n",
    "\n",
    "Let’s start with a simple example. \n",
    "- Say you’re helping a friend who wants to buy a house.\n",
    "\n",
    "- She was quoted $400,000 for a 2000 sq ft house (185 meters). \n",
    "\n",
    "Is this a good price or not?"
   ]
  },
  {
   "cell_type": "markdown",
   "metadata": {
    "slideshow": {
     "slide_type": "subslide"
    }
   },
   "source": [
    "So you ask your friends who have bought houses in that same neighborhoods, and you end up with three data points:\n",
    "\n",
    "\n",
    "\n",
    "| Area (sq ft) (x)  |  Price (y)   |  \n",
    "| -------------|:-------------:|\n",
    "|2,104|399,900|\n",
    "|1,600|329,900|\n",
    "|2,400|369,000|"
   ]
  },
  {
   "cell_type": "markdown",
   "metadata": {
    "slideshow": {
     "slide_type": "subslide"
    }
   },
   "source": [
    "\n",
    "$$y = f(X) = W X$$\n",
    "\n",
    "- Calculating the prediction is simple multiplication.\n",
    "- But before that, we need to think about the weight we’ll be multiplying by. \n",
    "- “training” a neural network just means finding the weights we use to calculate the prediction.\n"
   ]
  },
  {
   "cell_type": "markdown",
   "metadata": {
    "slideshow": {
     "slide_type": "subslide"
    }
   },
   "source": [
    "A simple predictive model (“regression model”)\n",
    "- takes an input, \n",
    "- does a calculation, \n",
    "- and gives an output \n",
    "\n"
   ]
  },
  {
   "cell_type": "markdown",
   "metadata": {
    "slideshow": {
     "slide_type": "subslide"
    }
   },
   "source": [
    "<img src= 'img/neuralnetwork/data_points_graph_animated.gif' width= \"700px\">"
   ]
  },
  {
   "cell_type": "markdown",
   "metadata": {
    "ExecuteTime": {
     "end_time": "2019-04-07T03:15:14.317623Z",
     "start_time": "2019-04-07T03:15:14.313438Z"
    },
    "slideshow": {
     "slide_type": "subslide"
    }
   },
   "source": [
    "Model Evaluation\n",
    "- If we apply our model to the three data points we have, how good of a job would it do?"
   ]
  },
  {
   "cell_type": "markdown",
   "metadata": {
    "slideshow": {
     "slide_type": "subslide"
    }
   },
   "source": [
    "\n",
    "<img src= 'img/neuralnetwork/data_points_error_animated.gif' width= \"700px\">"
   ]
  },
  {
   "cell_type": "markdown",
   "metadata": {
    "slideshow": {
     "slide_type": "subslide"
    }
   },
   "source": [
    "\n",
    "<img src= 'img/neuralnetwork/model_evaluation.png' width= \"500px\">"
   ]
  },
  {
   "cell_type": "markdown",
   "metadata": {
    "slideshow": {
     "slide_type": "subslide"
    }
   },
   "source": [
    "**Loss Function (also, cost function)**\n",
    "\n",
    "- For each point, the error is measured by the difference between the **actual value** and the **predicted value**, raised to the power of 2. \n",
    "- This is called **Mean Square Error**. "
   ]
  },
  {
   "cell_type": "markdown",
   "metadata": {
    "slideshow": {
     "slide_type": "subslide"
    }
   },
   "source": [
    "\n",
    "<img src= 'img/neuralnetwork/lines_and_errors_animated.gif' width= \"700px\">"
   ]
  },
  {
   "cell_type": "markdown",
   "metadata": {
    "slideshow": {
     "slide_type": "subslide"
    }
   },
   "source": [
    "- We can't improve much on the model by varying the weight any more. \n",
    "- But if we add a bias (intercept) we can find values that improve the model.\n",
    "\n",
    "<img src= 'img/neuralnetwork/NNs_bias_2.png' width= \"500px\">\n",
    "\n",
    "$$y = 0.1 X + 150$$"
   ]
  },
  {
   "cell_type": "markdown",
   "metadata": {
    "slideshow": {
     "slide_type": "subslide"
    }
   },
   "source": [
    "**Gradient Descent**\n",
    "\n",
    "- Automatically get the correct weight and bias values \n",
    "- minimize the loss function.\n",
    "\n",
    "<img src= 'img/neuralnetwork/gd.png' width= \"700px\">\n",
    "\n"
   ]
  },
  {
   "cell_type": "markdown",
   "metadata": {
    "slideshow": {
     "slide_type": "subslide"
    }
   },
   "source": [
    "\n",
    "<img src= 'img/neuralnetwork/NNs_2_variables.png' width= \"500px\">\n",
    "\n"
   ]
  },
  {
   "cell_type": "markdown",
   "metadata": {
    "slideshow": {
     "slide_type": "subslide"
    }
   },
   "source": [
    "\n",
    "<img src= 'img/neuralnetwork/softmax-regression-scalargraph.png' width= \"500px\">\n",
    "\n"
   ]
  },
  {
   "cell_type": "markdown",
   "metadata": {
    "slideshow": {
     "slide_type": "subslide"
    }
   },
   "source": [
    "## softmax\n",
    "\n",
    "The softmax function, also known as softargmax or normalized exponential function, is a function that takes as input a vector of K real numbers, and normalizes it into a probability distribution consisting of K probabilities. \n",
    "\n",
    "$$softmax = \\frac{e^x}{\\sum e^x}$$\n"
   ]
  },
  {
   "cell_type": "code",
   "execution_count": 18,
   "metadata": {
    "ExecuteTime": {
     "end_time": "2019-06-20T12:55:35.683662Z",
     "start_time": "2019-06-20T12:55:35.255122Z"
    },
    "slideshow": {
     "slide_type": "slide"
    }
   },
   "outputs": [],
   "source": [
    "%matplotlib inline\n",
    "import matplotlib.pyplot as plt\n",
    "import torch\n",
    "from torch import nn, optim\n",
    "from torch.autograd import Variable\n",
    "import numpy as np"
   ]
  },
  {
   "cell_type": "code",
   "execution_count": 4,
   "metadata": {
    "ExecuteTime": {
     "end_time": "2019-06-20T12:21:54.672588Z",
     "start_time": "2019-06-20T12:21:54.663560Z"
    },
    "slideshow": {
     "slide_type": "subslide"
    }
   },
   "outputs": [
    {
     "data": {
      "text/plain": [
       "array([0.02364054, 0.06426166, 0.1746813 , 0.474833  , 0.02364054,\n",
       "       0.06426166, 0.1746813 ])"
      ]
     },
     "execution_count": 4,
     "metadata": {},
     "output_type": "execute_result"
    }
   ],
   "source": [
    "def softmax(s):\n",
    "    return np.exp(s) / np.sum(np.exp(s), axis=0)\n",
    "\n",
    "softmax([1.0, 2.0, 3.0, 4.0, 1.0, 2.0, 3.0])"
   ]
  },
  {
   "cell_type": "code",
   "execution_count": 9,
   "metadata": {
    "ExecuteTime": {
     "end_time": "2019-06-20T12:42:11.508376Z",
     "start_time": "2019-06-20T12:42:11.340070Z"
    },
    "slideshow": {
     "slide_type": "subslide"
    }
   },
   "outputs": [
    {
     "data": {
      "image/png": "[encoded data removed]",
      "text/plain": [
       "<Figure size 432x288 with 1 Axes>"
      ]
     },
     "metadata": {},
     "output_type": "display_data"
    }
   ],
   "source": [
    "plt.plot(range(10), softmax(range(10)))\n",
    "plt.xlabel('x', fontsize = 20)\n",
    "plt.ylabel('softmax', fontsize = 20);"
   ]
  },
  {
   "cell_type": "markdown",
   "metadata": {
    "slideshow": {
     "slide_type": "subslide"
    }
   },
   "source": [
    "\n",
    "That is, prior to applying softmax, some vector components could be negative, or greater than one; and might not sum to 1; but after applying softmax, each component will be in the interval (0,1), and the components will add up to 1, so that they can be interpreted as probabilities. \n",
    "\n",
    "Furthermore, the larger input components will correspond to larger probabilities. \n",
    "\n",
    "Softmax is often used in neural networks, to map the non-normalized output of a network to a probability distribution over predicted output classes."
   ]
  },
  {
   "cell_type": "markdown",
   "metadata": {
    "slideshow": {
     "slide_type": "subslide"
    }
   },
   "source": [
    "## Activation Function\n"
   ]
  },
  {
   "cell_type": "code",
   "execution_count": 11,
   "metadata": {
    "ExecuteTime": {
     "end_time": "2019-06-20T12:42:59.697609Z",
     "start_time": "2019-06-20T12:42:59.691063Z"
    },
    "code_folding": [],
    "slideshow": {
     "slide_type": "subslide"
    }
   },
   "outputs": [
    {
     "data": {
      "text/plain": [
       "0.6224593312018546"
      ]
     },
     "execution_count": 11,
     "metadata": {},
     "output_type": "execute_result"
    }
   ],
   "source": [
    "def sigmoid(x):\n",
    "    return 1/(1 + np.exp(-x))\n",
    "\n",
    "sigmoid(0.5)"
   ]
  },
  {
   "cell_type": "code",
   "execution_count": 15,
   "metadata": {
    "ExecuteTime": {
     "end_time": "2019-06-20T12:44:06.636552Z",
     "start_time": "2019-06-20T12:44:06.465463Z"
    },
    "slideshow": {
     "slide_type": "subslide"
    }
   },
   "outputs": [
    {
     "data": {
      "image/png": "[encoded data removed]",
      "text/plain": [
       "<Figure size 432x288 with 1 Axes>"
      ]
     },
     "metadata": {},
     "output_type": "display_data"
    }
   ],
   "source": [
    "plt.plot(range(-10, 10), [sigmoid(i) for i in range(-10, 10)])\n",
    "plt.xlabel('x', fontsize = 20)\n",
    "plt.ylabel('sigmoid', fontsize = 20);"
   ]
  },
  {
   "cell_type": "code",
   "execution_count": 16,
   "metadata": {
    "ExecuteTime": {
     "end_time": "2019-06-20T12:44:22.603847Z",
     "start_time": "2019-06-20T12:44:22.596283Z"
    },
    "slideshow": {
     "slide_type": "subslide"
    }
   },
   "outputs": [
    {
     "data": {
      "text/plain": [
       "0.5"
      ]
     },
     "execution_count": 16,
     "metadata": {},
     "output_type": "execute_result"
    }
   ],
   "source": [
    "# Naive scalar relu implementation. \n",
    "# In the real world, most calculations are done on vectors\n",
    "def relu(x):\n",
    "    if x < 0:\n",
    "        return 0\n",
    "    else:\n",
    "        return x\n",
    "\n",
    "relu(0.5)"
   ]
  },
  {
   "cell_type": "code",
   "execution_count": 17,
   "metadata": {
    "ExecuteTime": {
     "end_time": "2019-06-20T12:44:23.364721Z",
     "start_time": "2019-06-20T12:44:23.198378Z"
    },
    "slideshow": {
     "slide_type": "subslide"
    }
   },
   "outputs": [
    {
     "data": {
      "image/png": "[encoded data removed]",
      "text/plain": [
       "<Figure size 432x288 with 1 Axes>"
      ]
     },
     "metadata": {},
     "output_type": "display_data"
    }
   ],
   "source": [
    "plt.plot(range(-10, 10), [relu(i) for i in range(-10, 10)])\n",
    "plt.xlabel('x', fontsize = 20)\n",
    "plt.ylabel('relu', fontsize = 20);"
   ]
  },
  {
   "cell_type": "code",
   "execution_count": 19,
   "metadata": {
    "ExecuteTime": {
     "end_time": "2019-06-20T12:55:43.110570Z",
     "start_time": "2019-06-20T12:55:42.943527Z"
    },
    "slideshow": {
     "slide_type": "subslide"
    }
   },
   "outputs": [
    {
     "data": {
      "image/png": "[encoded data removed]",
      "text/plain": [
       "<Figure size 432x288 with 1 Axes>"
      ]
     },
     "metadata": {},
     "output_type": "display_data"
    }
   ],
   "source": [
    "x_train = np.array([[2104],[1600],[2400]], dtype=np.float32)\n",
    "y_train = np.array([[399.900], [329.900], [369.000]], dtype=np.float32)\n",
    "\n",
    "plt.plot(x_train, y_train, 'r.')\n",
    "plt.show()"
   ]
  },
  {
   "cell_type": "code",
   "execution_count": 20,
   "metadata": {
    "ExecuteTime": {
     "end_time": "2019-06-20T12:55:43.595266Z",
     "start_time": "2019-06-20T12:55:43.591528Z"
    },
    "slideshow": {
     "slide_type": "skip"
    }
   },
   "outputs": [],
   "source": [
    "# x_train = np.array([[3.3], [4.4], [5.5], [6.71], [6.93], [4.168],\n",
    "#                     [9.779], [6.182], [7.59], [2.167], [7.042],\n",
    "#                     [10.791], [5.313], [7.997], [3.1]], dtype=np.float32)\n",
    "\n",
    "# y_train = np.array([[1.7], [2.76], [2.09], [3.19], [1.694], [1.573],\n",
    "#                     [3.366], [2.596], [2.53], [1.221], [2.827],\n",
    "#                     [3.465], [1.65], [2.904], [1.3]], dtype=np.float32)"
   ]
  },
  {
   "cell_type": "code",
   "execution_count": 21,
   "metadata": {
    "ExecuteTime": {
     "end_time": "2019-06-20T12:55:44.201604Z",
     "start_time": "2019-06-20T12:55:44.197963Z"
    },
    "slideshow": {
     "slide_type": "subslide"
    }
   },
   "outputs": [],
   "source": [
    "x_train = torch.from_numpy(x_train)\n",
    "y_train = torch.from_numpy(y_train)"
   ]
  },
  {
   "cell_type": "markdown",
   "metadata": {
    "ExecuteTime": {
     "end_time": "2019-04-07T04:47:17.479477Z",
     "start_time": "2019-04-07T04:47:17.468259Z"
    },
    "slideshow": {
     "slide_type": "subslide"
    }
   },
   "source": [
    "**nn.Linear**\n",
    "\n",
    "> help(nn.Linear)\n",
    "\n",
    "Applies a linear transformation to the incoming data: $y = xA^T + b$\n",
    "\n",
    "- **in_features**: size of each input sample\n",
    "- **out_features**: size of each output sample\n",
    "- **bias**: If set to False, the layer will not learn an additive bias. Default: ``True``"
   ]
  },
  {
   "cell_type": "code",
   "execution_count": 22,
   "metadata": {
    "ExecuteTime": {
     "end_time": "2019-06-20T12:55:45.622254Z",
     "start_time": "2019-06-20T12:55:45.612549Z"
    },
    "slideshow": {
     "slide_type": "subslide"
    }
   },
   "outputs": [],
   "source": [
    "# Linear Regression Model\n",
    "class LinearRegression(nn.Module):\n",
    "    def __init__(self):\n",
    "        super(LinearRegression, self).__init__()\n",
    "        self.linear = nn.Linear(1, 1)  # input and output is 1 dimension\n",
    "\n",
    "    def forward(self, x):\n",
    "        out = self.linear(x)\n",
    "        return out\n",
    "\n",
    "model = LinearRegression()"
   ]
  },
  {
   "cell_type": "code",
   "execution_count": 23,
   "metadata": {
    "ExecuteTime": {
     "end_time": "2019-06-20T12:56:00.581797Z",
     "start_time": "2019-06-20T12:56:00.577795Z"
    },
    "slideshow": {
     "slide_type": "subslide"
    }
   },
   "outputs": [],
   "source": [
    "# Define Loss and Optimizatioin function\n",
    "criterion = nn.MSELoss()\n",
    "optimizer = optim.SGD(model.parameters(), lr=1e-9)#1e-4)"
   ]
  },
  {
   "cell_type": "markdown",
   "metadata": {
    "ExecuteTime": {
     "end_time": "2019-06-20T13:07:42.012941Z",
     "start_time": "2019-06-20T13:07:42.003484Z"
    },
    "slideshow": {
     "slide_type": "subslide"
    }
   },
   "source": [
    "> help(nn.MSELoss)\n",
    "\n",
    "To measures the **mean squared error** (squared L2 norm) between each element in the input `x` and target `y`.\n",
    "\n",
    "> help(optim.SGD)\n",
    "\n",
    "Implements **stochastic gradient descent** (optionally with momentum)."
   ]
  },
  {
   "cell_type": "code",
   "execution_count": 27,
   "metadata": {
    "ExecuteTime": {
     "end_time": "2019-06-20T13:23:48.525703Z",
     "start_time": "2019-06-20T13:23:48.322373Z"
    },
    "slideshow": {
     "slide_type": "subslide"
    }
   },
   "outputs": [
    {
     "name": "stdout",
     "output_type": "stream",
     "text": [
      "Epoch[50/1000], loss: 246006.640625\n",
      "Epoch[100/1000], loss: 105952.140625\n",
      "Epoch[150/1000], loss: 46295.144531\n",
      "Epoch[200/1000], loss: 20883.789062\n",
      "Epoch[250/1000], loss: 10059.683594\n",
      "Epoch[300/1000], loss: 5449.080566\n",
      "Epoch[350/1000], loss: 3485.161865\n",
      "Epoch[400/1000], loss: 2648.626953\n",
      "Epoch[450/1000], loss: 2292.296143\n",
      "Epoch[500/1000], loss: 2140.512207\n",
      "Epoch[550/1000], loss: 2075.859863\n",
      "Epoch[600/1000], loss: 2048.321777\n",
      "Epoch[650/1000], loss: 2036.591675\n",
      "Epoch[700/1000], loss: 2031.594971\n",
      "Epoch[750/1000], loss: 2029.465820\n",
      "Epoch[800/1000], loss: 2028.559570\n",
      "Epoch[850/1000], loss: 2028.173706\n",
      "Epoch[900/1000], loss: 2028.008423\n",
      "Epoch[950/1000], loss: 2027.937988\n",
      "Epoch[1000/1000], loss: 2027.909058\n"
     ]
    }
   ],
   "source": [
    "num_epochs = 1000\n",
    "for epoch in range(num_epochs):\n",
    "    inputs = Variable(x_train)\n",
    "    target = Variable(y_train)\n",
    "\n",
    "    # forward\n",
    "    out = model(inputs)\n",
    "    loss = criterion(out, target)\n",
    "    # backward\n",
    "    optimizer.zero_grad() # Clears the gradients of all optimized\n",
    "    loss.backward()\n",
    "    optimizer.step() # Performs a single optimization step.\n",
    "\n",
    "    if (epoch+1) % 50 == 0:\n",
    "        print('Epoch[{}/{}], loss: {:.6f}'\n",
    "              .format(epoch+1, num_epochs, loss.data.item()))\n"
   ]
  },
  {
   "cell_type": "markdown",
   "metadata": {
    "slideshow": {
     "slide_type": "subslide"
    }
   },
   "source": [
    "$$\n",
    "\\ell(x, y) = L = \\{l_1,\\dots,l_N\\}^\\top, \\quad\n",
    "        l_n = \\left( x_n - y_n \\right)^2,\n",
    "$$\n",
    "    where :`N` is the batch size. "
   ]
  },
  {
   "cell_type": "code",
   "execution_count": 30,
   "metadata": {
    "ExecuteTime": {
     "end_time": "2019-06-20T13:31:47.227886Z",
     "start_time": "2019-06-20T13:31:47.224533Z"
    }
   },
   "outputs": [
    {
     "name": "stdout",
     "output_type": "stream",
     "text": [
      "Help on method eval in module torch.nn.modules.module:\n",
      "\n",
      "eval() method of __main__.LinearRegression instance\n",
      "    Sets the module in evaluation mode.\n",
      "    \n",
      "    This has any effect only on certain modules. See documentations of\n",
      "    particular modules for details of their behaviors in training/evaluation\n",
      "    mode, if they are affected, e.g. :class:`Dropout`, :class:`BatchNorm`,\n",
      "    etc.\n",
      "\n"
     ]
    }
   ],
   "source": [
    "help(model.eval)"
   ]
  },
  {
   "cell_type": "code",
   "execution_count": 109,
   "metadata": {
    "ExecuteTime": {
     "end_time": "2019-04-07T05:26:38.112863Z",
     "start_time": "2019-04-07T05:26:38.108523Z"
    },
    "slideshow": {
     "slide_type": "subslide"
    }
   },
   "outputs": [
    {
     "data": {
      "text/plain": [
       "LinearRegression(\n",
       "  (linear): Linear(in_features=1, out_features=1, bias=True)\n",
       ")"
      ]
     },
     "execution_count": 109,
     "metadata": {},
     "output_type": "execute_result"
    }
   ],
   "source": [
    "model.eval()"
   ]
  },
  {
   "cell_type": "code",
   "execution_count": 118,
   "metadata": {
    "ExecuteTime": {
     "end_time": "2019-04-07T05:54:13.026497Z",
     "start_time": "2019-04-07T05:54:12.777585Z"
    },
    "slideshow": {
     "slide_type": "subslide"
    }
   },
   "outputs": [
    {
     "data": {
      "image/png": "[encoded data removed]",
      "text/plain": [
       "<Figure size 432x288 with 1 Axes>"
      ]
     },
     "metadata": {},
     "output_type": "display_data"
    }
   ],
   "source": [
    "predict = model(Variable(x_train))\n",
    "predict = predict.data.numpy()\n",
    "plt.plot(x_train.numpy(), y_train.numpy(), 'ro', label='Original data')\n",
    "plt.plot(x_train.numpy(), predict, 'b-s', label='Fitting Line')\n",
    "plt.xlabel('X', fontsize= 20)\n",
    "plt.ylabel('y', fontsize= 20)\n",
    "plt.legend()\n",
    "plt.show()"
   ]
  },
  {
   "cell_type": "markdown",
   "metadata": {
    "slideshow": {
     "slide_type": "subslide"
    }
   },
   "source": [
    "使用pytorch建立卷积神经网络并处理MNIST数据。\n",
    "https://computational-communication.com/pytorch-mnist/"
   ]
  },
  {
   "cell_type": "markdown",
   "metadata": {
    "slideshow": {
     "slide_type": "slide"
    }
   },
   "source": [
    "<!--NAVIGATION-->\n",
    "< [In-Depth: Decision Trees and Random Forests](09.08-Random-Forests.ipynb) | [Contents](Index.ipynb) |[In-Depth: Neural Network Advanced](09.10.neural_network_advanced.ipynb)>"
   ]
  }
 ],
 "metadata": {
  "celltoolbar": "Slideshow",
  "kernelspec": {
   "display_name": "Python [default]",
   "language": "python",
   "name": "python3"
  },
  "language_info": {
   "codemirror_mode": {
    "name": "ipython",
    "version": 3
   },
   "file_extension": ".py",
   "mimetype": "text/x-python",
   "name": "python",
   "nbconvert_exporter": "python",
   "pygments_lexer": "ipython3",
   "version": "3.5.4"
  },
  "latex_envs": {
   "LaTeX_envs_menu_present": true,
   "autoclose": false,
   "autocomplete": true,
   "bibliofile": "biblio.bib",
   "cite_by": "apalike",
   "current_citInitial": 1,
   "eqLabelWithNumbers": true,
   "eqNumInitial": 1,
   "hotkeys": {
    "equation": "Ctrl-E",
    "itemize": "Ctrl-I"
   },
   "labels_anchors": false,
   "latex_user_defs": false,
   "report_style_numbering": false,
   "user_envs_cfg": false
  },
  "toc": {
   "base_numbering": 1,
   "nav_menu": {},
   "number_sections": false,
   "sideBar": true,
   "skip_h1_title": false,
   "title_cell": "Table of Contents",
   "title_sidebar": "Contents",
   "toc_cell": false,
   "toc_position": {
    "height": "calc(100% - 180px)",
    "left": "10px",
    "top": "150px",
    "width": "170px"
   },
   "toc_section_display": true,
   "toc_window_display": true
  }
 },
 "nbformat": 4,
 "nbformat_minor": 2
}
